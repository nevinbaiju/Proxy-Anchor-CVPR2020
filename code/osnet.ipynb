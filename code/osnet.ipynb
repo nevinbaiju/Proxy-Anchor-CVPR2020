{
 "cells": [
  {
   "cell_type": "code",
   "execution_count": 1,
   "id": "43b2818c-3184-4768-b9a7-0f0e21d4789a",
   "metadata": {},
   "outputs": [],
   "source": [
    "import torch, math, time, argparse, os\n",
    "import random, dataset, utils, losses, net\n",
    "import numpy as np\n",
    "\n",
    "from dataset.market import Market\n",
    "from net.os_net import get_embedding_model, osnet_ibn_x1_0, OSNet, OSBlock\n",
    "from dataset import sampler\n",
    "from torch.utils.data.sampler import BatchSampler\n",
    "from torch.utils.data.dataloader import default_collate\n",
    "from torch import nn\n",
    "\n",
    "\n",
    "from tqdm import *\n",
    "import wandb"
   ]
  },
  {
   "cell_type": "code",
   "execution_count": 2,
   "id": "0ac6c662-34ce-4d32-acfa-a02de1311b52",
   "metadata": {},
   "outputs": [],
   "source": [
    "seed = 1\n",
    "random.seed(seed)\n",
    "np.random.seed(seed)\n",
    "torch.manual_seed(seed)\n",
    "torch.cuda.manual_seed_all(seed)"
   ]
  },
  {
   "cell_type": "code",
   "execution_count": 3,
   "id": "57ef0278-6c0d-46ba-891e-ecd5bd9e7fb3",
   "metadata": {},
   "outputs": [],
   "source": [
    "LOG_DIR = '.'\n",
    "trn_dataset = dataset.load('market', '../../Market-1501-v15.09.15/', 'train', transform = dataset.utils.make_transform(\n",
    "                                                                                                                        is_train = True, \n",
    "                                                                                                                        is_inception = False))"
   ]
  },
  {
   "cell_type": "code",
   "execution_count": 4,
   "id": "52b6a1d3-ea6e-49a3-95ec-7e32c742e133",
   "metadata": {},
   "outputs": [],
   "source": [
    "dl_tr = torch.utils.data.DataLoader(\n",
    "        trn_dataset,\n",
    "        batch_size = 64,\n",
    "        shuffle = True,\n",
    "        num_workers = 4,\n",
    "        drop_last = True,\n",
    "        pin_memory = True\n",
    "    )"
   ]
  },
  {
   "cell_type": "raw",
   "id": "7b961e33-a436-44c2-9421-83c2cf7e388d",
   "metadata": {
    "scrolled": true
   },
   "source": [
    "model = OSNet(\n",
    "        blocks=[OSBlock, OSBlock, OSBlock],\n",
    "        layers=[2, 2, 2],\n",
    "        channels=[64, 256, 384, 512],\n",
    "    ).cuda()"
   ]
  },
  {
   "cell_type": "code",
   "execution_count": 5,
   "id": "276011b6-f9a0-4f82-b2f4-690b0181a867",
   "metadata": {},
   "outputs": [
    {
     "name": "stdout",
     "output_type": "stream",
     "text": [
      "Successfully loaded imagenet pretrained weights from \"/home/nevin/.cache/torch/checkpoints/osnet_ibn_x1_0_imagenet.pth\"\n",
      "** The following layers are discarded due to unmatched keys or layer size: ['classifier.weight', 'classifier.bias']\n"
     ]
    }
   ],
   "source": [
    "model = osnet_ibn_x1_0(pretrained=True).cuda()"
   ]
  },
  {
   "cell_type": "code",
   "execution_count": 6,
   "id": "afcdf001-e441-4fc3-b2da-d59b36d032b1",
   "metadata": {},
   "outputs": [],
   "source": [
    "criterion = losses.Proxy_Anchor(nb_classes = trn_dataset.nb_classes(), sz_embed = 512, mrg = 0.1, alpha = 32).cuda()"
   ]
  },
  {
   "cell_type": "code",
   "execution_count": 7,
   "id": "9417012e-30f1-4211-b6e0-f660810e6203",
   "metadata": {
    "scrolled": true
   },
   "outputs": [],
   "source": [
    "param_groups = [\n",
    "    {'params': list(set(model.parameters()).difference(set(model.fc.parameters())))},\n",
    "    {'params': model.fc.parameters(), 'lr':float(1e-4) * 1},\n",
    "]\n",
    "param_groups.append({'params': criterion.parameters(), 'lr':float(1e-4) * 100})"
   ]
  },
  {
   "cell_type": "code",
   "execution_count": 8,
   "id": "4f383e4c-646c-41da-89c7-81a785def467",
   "metadata": {},
   "outputs": [],
   "source": [
    "opt = torch.optim.AdamW(param_groups, lr=float(1e-4), weight_decay = 1e-4)"
   ]
  },
  {
   "cell_type": "code",
   "execution_count": 9,
   "id": "9c1dade6-cec2-4056-b6e5-03ce1d8dde08",
   "metadata": {},
   "outputs": [],
   "source": [
    "scheduler = torch.optim.lr_scheduler.StepLR(opt, step_size=10, gamma = 0.5)"
   ]
  },
  {
   "cell_type": "code",
   "execution_count": null,
   "id": "7cb52d3c-3ade-46a0-ac85-4e5abde99a61",
   "metadata": {},
   "outputs": [
    {
     "name": "stderr",
     "output_type": "stream",
     "text": [
      "0it [00:00, ?it/s]/home/nevin/anaconda3/envs/cv/lib/python3.9/site-packages/torch/nn/modules/conv.py:456: UserWarning: Applied workaround for CuDNN issue, install nvrtc.so (Triggered internally at /opt/conda/conda-bld/pytorch_1695392022560/work/aten/src/ATen/native/cudnn/Conv_v8.cpp:80.)\n",
      "  return F.conv2d(input, weight, bias, self.stride,\n",
      "Train Epoch: 0 [34/34 (97%)] Loss: 8.220604: : 34it [00:04,  7.48it/s] \n",
      "Train Epoch: 1 [9/34 (24%)] Loss: 7.645442: : 9it [00:03,  2.87it/s]"
     ]
    }
   ],
   "source": [
    "for epoch in range(0, 60):\n",
    "    model.train()\n",
    "    bn_freeze = True\n",
    "\n",
    "    if bn_freeze:\n",
    "            modules = model.modules()\n",
    "            for m in modules: \n",
    "                if isinstance(m, nn.BatchNorm2d):\n",
    "                    m.eval()\n",
    "\n",
    "    losses_per_epoch = []\n",
    "    unfreeze_model_param = list(model.fc.parameters()) + list(criterion.parameters())\n",
    "\n",
    "    if epoch == 0:\n",
    "        for param in list(set(model.parameters()).difference(set(unfreeze_model_param))):\n",
    "            param.requires_grad = False\n",
    "    if epoch == 1:\n",
    "        for param in list(set(model.parameters()).difference(set(unfreeze_model_param))):\n",
    "            param.requires_grad = True\n",
    "\n",
    "    pbar = tqdm(enumerate(dl_tr))\n",
    "\n",
    "    for batch_idx, (x, y) in pbar:                         \n",
    "        m = model(x.squeeze().cuda())\n",
    "        loss = criterion(m, y.squeeze().cuda())\n",
    "        \n",
    "        opt.zero_grad()\n",
    "        loss.backward()\n",
    "        \n",
    "        torch.nn.utils.clip_grad_value_(model.parameters(), 10)\n",
    "        \n",
    "        torch.nn.utils.clip_grad_value_(criterion.parameters(), 10)\n",
    "\n",
    "        losses_per_epoch.append(loss.data.cpu().numpy())\n",
    "        opt.step()\n",
    "\n",
    "        pbar.set_description(\n",
    "            'Train Epoch: {} [{}/{} ({:.0f}%)] Loss: {:.6f}'.format(\n",
    "                epoch, batch_idx + 1, len(dl_tr),\n",
    "                100. * batch_idx / len(dl_tr),\n",
    "                loss.item()))"
   ]
  },
  {
   "cell_type": "code",
   "execution_count": null,
   "id": "f7661c83-a49f-4046-b0f4-985a129c1031",
   "metadata": {},
   "outputs": [],
   "source": []
  }
 ],
 "metadata": {
  "kernelspec": {
   "display_name": "Python 3 (ipykernel)",
   "language": "python",
   "name": "python3"
  },
  "language_info": {
   "codemirror_mode": {
    "name": "ipython",
    "version": 3
   },
   "file_extension": ".py",
   "mimetype": "text/x-python",
   "name": "python",
   "nbconvert_exporter": "python",
   "pygments_lexer": "ipython3",
   "version": "3.9.18"
  }
 },
 "nbformat": 4,
 "nbformat_minor": 5
}
