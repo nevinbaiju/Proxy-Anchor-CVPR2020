{
 "cells": [
  {
   "cell_type": "code",
   "execution_count": 46,
   "id": "c3446aa2",
   "metadata": {},
   "outputs": [],
   "source": [
    "import dataset\n",
    "import losses"
   ]
  },
  {
   "cell_type": "code",
   "execution_count": 47,
   "id": "938b803d",
   "metadata": {},
   "outputs": [],
   "source": [
    "from net.resnet import *\n",
    "from net.googlenet import *\n",
    "from net.bn_inception import *"
   ]
  },
  {
   "cell_type": "code",
   "execution_count": 55,
   "id": "4a707e47",
   "metadata": {},
   "outputs": [],
   "source": [
    "device = 'cuda' if torch.cuda.is_available() else 'cpu'\n",
    "\n",
    "dataset_name = 'cars'\n",
    "root = '/home/oem/data/cars'\n",
    "\n",
    "model = 'resnet50'\n",
    "sz_embedding = 512\n",
    "l2_norm = 1\n",
    "bn_freeze = 1\n",
    "\n",
    "loss = 'Proxy_Anchor'\n",
    "mrg = 0.1\n",
    "alpha = 32"
   ]
  },
  {
   "cell_type": "code",
   "execution_count": 49,
   "id": "15dc8a26",
   "metadata": {},
   "outputs": [],
   "source": [
    "trn_dataset = dataset.load(\n",
    "            name = dataset_name,\n",
    "            root = root,\n",
    "            mode = 'train',\n",
    "            transform = dataset.utils.make_transform(\n",
    "                is_train = True, \n",
    "                is_inception = False\n",
    "            ))\n",
    "\n",
    "ev_dataset = dataset.load(\n",
    "            name = dataset_name,\n",
    "            root = root,\n",
    "            mode = 'eval',\n",
    "            transform = dataset.utils.make_transform(\n",
    "                is_train = False, \n",
    "                is_inception = False\n",
    "            ))"
   ]
  },
  {
   "cell_type": "code",
   "execution_count": 50,
   "id": "b23c9173",
   "metadata": {},
   "outputs": [],
   "source": [
    "nb_classes = trn_dataset.nb_classes()"
   ]
  },
  {
   "cell_type": "code",
   "execution_count": 51,
   "id": "f6b9b437",
   "metadata": {},
   "outputs": [
    {
     "name": "stderr",
     "output_type": "stream",
     "text": [
      "/home/oem/.conda/envs/another_ai/lib/python3.8/site-packages/torchvision/models/_utils.py:135: UserWarning: Using 'weights' as positional parameter(s) is deprecated since 0.13 and will be removed in 0.15. Please use keyword parameter(s) instead.\n",
      "  warnings.warn(\n",
      "/home/oem/.conda/envs/another_ai/lib/python3.8/site-packages/torchvision/models/_utils.py:223: UserWarning: Arguments other than a weight enum or `None` for 'weights' are deprecated since 0.13 and will be removed in 0.15. The current behavior is equivalent to passing `weights=ResNet50_Weights.IMAGENET1K_V1`. You can also use `weights=ResNet50_Weights.DEFAULT` to get the most up-to-date weights.\n",
      "  warnings.warn(msg)\n"
     ]
    }
   ],
   "source": [
    "# Backbone Model\n",
    "if model.find('googlenet')+1:\n",
    "    model = googlenet(embedding_size=sz_embedding, pretrained=True, is_norm=l2_norm, bn_freeze = bn_freeze)\n",
    "elif model.find('bn_inception')+1:\n",
    "    model = bn_inception(embedding_size=sz_embedding, pretrained=True, is_norm=l2_norm, bn_freeze = bn_freeze)\n",
    "elif model.find('resnet18')+1:\n",
    "    model = Resnet18(embedding_size=sz_embedding, pretrained=True, is_norm=l2_norm, bn_freeze = bn_freeze)\n",
    "elif model.find('resnet50')+1:\n",
    "    model = Resnet50(embedding_size=sz_embedding, pretrained=True, is_norm=l2_norm, bn_freeze = bn_freeze)\n",
    "elif model.find('resnet101')+1:\n",
    "    model = Resnet101(embedding_size=sz_embedding, pretrained=True, is_norm=l2_norm, bn_freeze = bn_freeze)\n",
    "model = model.to(device)"
   ]
  },
  {
   "cell_type": "code",
   "execution_count": 59,
   "id": "3255639f",
   "metadata": {},
   "outputs": [
    {
     "ename": "AssertionError",
     "evalue": "Torch not compiled with CUDA enabled",
     "output_type": "error",
     "traceback": [
      "\u001b[0;31m---------------------------------------------------------------------------\u001b[0m",
      "\u001b[0;31mAssertionError\u001b[0m                            Traceback (most recent call last)",
      "Input \u001b[0;32mIn [59]\u001b[0m, in \u001b[0;36m<cell line: 2>\u001b[0;34m()\u001b[0m\n\u001b[1;32m      1\u001b[0m \u001b[38;5;66;03m# DML Losses\u001b[39;00m\n\u001b[1;32m      2\u001b[0m \u001b[38;5;28;01mif\u001b[39;00m loss \u001b[38;5;241m==\u001b[39m \u001b[38;5;124m'\u001b[39m\u001b[38;5;124mProxy_Anchor\u001b[39m\u001b[38;5;124m'\u001b[39m:\n\u001b[0;32m----> 3\u001b[0m     criterion \u001b[38;5;241m=\u001b[39m \u001b[43mlosses\u001b[49m\u001b[38;5;241;43m.\u001b[39;49m\u001b[43mProxy_Anchor\u001b[49m\u001b[43m(\u001b[49m\u001b[43mnb_classes\u001b[49m\u001b[43m \u001b[49m\u001b[38;5;241;43m=\u001b[39;49m\u001b[43m \u001b[49m\u001b[43mnb_classes\u001b[49m\u001b[43m,\u001b[49m\u001b[43m \u001b[49m\u001b[43msz_embed\u001b[49m\u001b[43m \u001b[49m\u001b[38;5;241;43m=\u001b[39;49m\u001b[43m \u001b[49m\u001b[43msz_embedding\u001b[49m\u001b[43m,\u001b[49m\u001b[43m \u001b[49m\u001b[43mmrg\u001b[49m\u001b[43m \u001b[49m\u001b[38;5;241;43m=\u001b[39;49m\u001b[43m \u001b[49m\u001b[43mmrg\u001b[49m\u001b[43m,\u001b[49m\u001b[43m \u001b[49m\u001b[43malpha\u001b[49m\u001b[43m \u001b[49m\u001b[38;5;241;43m=\u001b[39;49m\u001b[43m \u001b[49m\u001b[43malpha\u001b[49m\u001b[43m)\u001b[49m\u001b[38;5;241m.\u001b[39mcuda()\n\u001b[1;32m      4\u001b[0m \u001b[38;5;28;01melif\u001b[39;00m loss \u001b[38;5;241m==\u001b[39m \u001b[38;5;124m'\u001b[39m\u001b[38;5;124mProxy_NCA\u001b[39m\u001b[38;5;124m'\u001b[39m:\n\u001b[1;32m      5\u001b[0m     criterion \u001b[38;5;241m=\u001b[39m losses\u001b[38;5;241m.\u001b[39mProxy_NCA(nb_classes \u001b[38;5;241m=\u001b[39m nb_classes, sz_embed \u001b[38;5;241m=\u001b[39m sz_embedding)\u001b[38;5;241m.\u001b[39mto(device)\n",
      "File \u001b[0;32m~/projects/another ai/Proxy-Anchor-CVPR2020/code/losses.py:30\u001b[0m, in \u001b[0;36mProxy_Anchor.__init__\u001b[0;34m(self, nb_classes, sz_embed, mrg, alpha)\u001b[0m\n\u001b[1;32m     28\u001b[0m torch\u001b[38;5;241m.\u001b[39mnn\u001b[38;5;241m.\u001b[39mModule\u001b[38;5;241m.\u001b[39m\u001b[38;5;21m__init__\u001b[39m(\u001b[38;5;28mself\u001b[39m)\n\u001b[1;32m     29\u001b[0m \u001b[38;5;66;03m# Proxy Anchor Initialization\u001b[39;00m\n\u001b[0;32m---> 30\u001b[0m \u001b[38;5;28mself\u001b[39m\u001b[38;5;241m.\u001b[39mproxies \u001b[38;5;241m=\u001b[39m torch\u001b[38;5;241m.\u001b[39mnn\u001b[38;5;241m.\u001b[39mParameter(\u001b[43mtorch\u001b[49m\u001b[38;5;241;43m.\u001b[39;49m\u001b[43mrandn\u001b[49m\u001b[43m(\u001b[49m\u001b[43mnb_classes\u001b[49m\u001b[43m,\u001b[49m\u001b[43m \u001b[49m\u001b[43msz_embed\u001b[49m\u001b[43m)\u001b[49m\u001b[38;5;241;43m.\u001b[39;49m\u001b[43mcuda\u001b[49m\u001b[43m(\u001b[49m\u001b[43m)\u001b[49m)\n\u001b[1;32m     31\u001b[0m nn\u001b[38;5;241m.\u001b[39minit\u001b[38;5;241m.\u001b[39mkaiming_normal_(\u001b[38;5;28mself\u001b[39m\u001b[38;5;241m.\u001b[39mproxies, mode\u001b[38;5;241m=\u001b[39m\u001b[38;5;124m'\u001b[39m\u001b[38;5;124mfan_out\u001b[39m\u001b[38;5;124m'\u001b[39m)\n\u001b[1;32m     33\u001b[0m \u001b[38;5;28mself\u001b[39m\u001b[38;5;241m.\u001b[39mnb_classes \u001b[38;5;241m=\u001b[39m nb_classes\n",
      "File \u001b[0;32m~/.conda/envs/another_ai/lib/python3.8/site-packages/torch/cuda/__init__.py:211\u001b[0m, in \u001b[0;36m_lazy_init\u001b[0;34m()\u001b[0m\n\u001b[1;32m    207\u001b[0m     \u001b[38;5;28;01mraise\u001b[39;00m \u001b[38;5;167;01mRuntimeError\u001b[39;00m(\n\u001b[1;32m    208\u001b[0m         \u001b[38;5;124m\"\u001b[39m\u001b[38;5;124mCannot re-initialize CUDA in forked subprocess. To use CUDA with \u001b[39m\u001b[38;5;124m\"\u001b[39m\n\u001b[1;32m    209\u001b[0m         \u001b[38;5;124m\"\u001b[39m\u001b[38;5;124mmultiprocessing, you must use the \u001b[39m\u001b[38;5;124m'\u001b[39m\u001b[38;5;124mspawn\u001b[39m\u001b[38;5;124m'\u001b[39m\u001b[38;5;124m start method\u001b[39m\u001b[38;5;124m\"\u001b[39m)\n\u001b[1;32m    210\u001b[0m \u001b[38;5;28;01mif\u001b[39;00m \u001b[38;5;129;01mnot\u001b[39;00m \u001b[38;5;28mhasattr\u001b[39m(torch\u001b[38;5;241m.\u001b[39m_C, \u001b[38;5;124m'\u001b[39m\u001b[38;5;124m_cuda_getDeviceCount\u001b[39m\u001b[38;5;124m'\u001b[39m):\n\u001b[0;32m--> 211\u001b[0m     \u001b[38;5;28;01mraise\u001b[39;00m \u001b[38;5;167;01mAssertionError\u001b[39;00m(\u001b[38;5;124m\"\u001b[39m\u001b[38;5;124mTorch not compiled with CUDA enabled\u001b[39m\u001b[38;5;124m\"\u001b[39m)\n\u001b[1;32m    212\u001b[0m \u001b[38;5;28;01mif\u001b[39;00m _cudart \u001b[38;5;129;01mis\u001b[39;00m \u001b[38;5;28;01mNone\u001b[39;00m:\n\u001b[1;32m    213\u001b[0m     \u001b[38;5;28;01mraise\u001b[39;00m \u001b[38;5;167;01mAssertionError\u001b[39;00m(\n\u001b[1;32m    214\u001b[0m         \u001b[38;5;124m\"\u001b[39m\u001b[38;5;124mlibcudart functions unavailable. It looks like you have a broken build?\u001b[39m\u001b[38;5;124m\"\u001b[39m)\n",
      "\u001b[0;31mAssertionError\u001b[0m: Torch not compiled with CUDA enabled"
     ]
    }
   ],
   "source": [
    "# DML Losses\n",
    "if loss == 'Proxy_Anchor':\n",
    "    criterion = losses.Proxy_Anchor(nb_classes = nb_classes, sz_embed = sz_embedding, mrg = mrg, alpha = alpha).to(device)\n",
    "elif loss == 'Proxy_NCA':\n",
    "    criterion = losses.Proxy_NCA(nb_classes = nb_classes, sz_embed = sz_embedding).to(device)\n",
    "elif loss == 'MS':\n",
    "    criterion = losses.MultiSimilarityLoss().to(device)\n",
    "elif loss == 'Contrastive':\n",
    "    criterion = losses.ContrastiveLoss().to(device)\n",
    "elif loss == 'Triplet':\n",
    "    criterion = losses.TripletLoss().to(device)\n",
    "elif loss == 'NPair':\n",
    "    criterion = losses.NPairLoss().to(device)"
   ]
  },
  {
   "cell_type": "code",
   "execution_count": 57,
   "id": "34c8dd1d",
   "metadata": {},
   "outputs": [
    {
     "data": {
      "text/plain": [
       "'cpu'"
      ]
     },
     "execution_count": 57,
     "metadata": {},
     "output_type": "execute_result"
    }
   ],
   "source": [
    "device"
   ]
  },
  {
   "cell_type": "code",
   "execution_count": null,
   "id": "19471e6e",
   "metadata": {},
   "outputs": [],
   "source": []
  }
 ],
 "metadata": {
  "kernelspec": {
   "display_name": "Python 3 (ipykernel)",
   "language": "python",
   "name": "python3"
  },
  "language_info": {
   "codemirror_mode": {
    "name": "ipython",
    "version": 3
   },
   "file_extension": ".py",
   "mimetype": "text/x-python",
   "name": "python",
   "nbconvert_exporter": "python",
   "pygments_lexer": "ipython3",
   "version": "3.8.13"
  }
 },
 "nbformat": 4,
 "nbformat_minor": 5
}
